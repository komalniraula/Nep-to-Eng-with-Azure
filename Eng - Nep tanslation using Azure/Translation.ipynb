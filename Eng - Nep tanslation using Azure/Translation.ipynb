{
 "cells": [
  {
   "cell_type": "code",
   "execution_count": 1,
   "id": "8a1114a9",
   "metadata": {},
   "outputs": [],
   "source": [
    "import timeit\n",
    "start = timeit.default_timer() # To check the running time\n",
    "import pandas\n",
    "import numpy\n",
    "from docx import Document\n",
    "import requests, uuid, re\n",
    "import concurrent.futures"
   ]
  },
  {
   "cell_type": "code",
   "execution_count": 28,
   "id": "ae91ceeb",
   "metadata": {},
   "outputs": [],
   "source": [
    "name = '6.12 Procedures of Winding up of a Company' # Name of the document\n",
    "doc = Document(name + '.docx')"
   ]
  },
  {
   "cell_type": "code",
   "execution_count": null,
   "id": "183027ff",
   "metadata": {},
   "outputs": [],
   "source": [
    "#Extracting each line for translation from the doc file\n",
    "lis = []\n",
    "for p in doc.paragraphs:\n",
    "    oho = p.text\n",
    "    lis.append(oho.strip())"
   ]
  },
  {
   "cell_type": "code",
   "execution_count": 29,
   "id": "84244d3b",
   "metadata": {},
   "outputs": [],
   "source": [
    "def translator(input_edited):\n",
    "    # Micrsoft Azure API key and endpoint\n",
    "    key = \"4b2m62c85okcs3j4o1pp2mwi1h8j3d53\" #This is a random value (Not my key)\n",
    "    endpoint = \"https://api.cognitive.microsofttranslator.com\"\n",
    "\n",
    "    # location, also known as region.\n",
    "    #It can be found in the Azure portal on the Keys and Endpoint page.\n",
    "    location = \"eastus\"\n",
    "\n",
    "    path = '/translate'\n",
    "    constructed_url = endpoint + path\n",
    "\n",
    "    params = {\n",
    "        'api-version': '3.0',\n",
    "        'from': 'en',\n",
    "        'to': ['ne']\n",
    "    }\n",
    "\n",
    "    headers = {\n",
    "        'Ocp-Apim-Subscription-Key': key,\n",
    "        # location is required if using a multi-service or regional (not global) resource.\n",
    "        'Ocp-Apim-Subscription-Region': location,\n",
    "        'Content-type': 'application/json',\n",
    "        'X-ClientTraceId': str(uuid.uuid4())\n",
    "    }\n",
    "    \n",
    "    # Pass the object in body.\n",
    "    body = [{\n",
    "        'text': input_edited\n",
    "    }]\n",
    "    \n",
    "    # Sending request and geting response\n",
    "    request = requests.post(constructed_url, params=params, headers=headers, json=body)\n",
    "    response = request.json()\n",
    "    \n",
    "    return response[0]"
   ]
  },
  {
   "cell_type": "code",
   "execution_count": 30,
   "id": "0b5598b7",
   "metadata": {},
   "outputs": [],
   "source": [
    "#Extracting the translated text from the response\n",
    "def translated_extraction(text):\n",
    "    translated = translator(text)\n",
    "    \n",
    "    text_dic = translated[\"translations\"]\n",
    "    text = text_dic[0]\n",
    "    translated_text = text[\"text\"]\n",
    "    \n",
    "    return translated_text"
   ]
  },
  {
   "cell_type": "code",
   "execution_count": 32,
   "id": "8bfc0ebd",
   "metadata": {},
   "outputs": [],
   "source": [
    "# Creating a new document for traslated sentences\n",
    "new_doc = Document()\n",
    "\n",
    "# Add a paragraph to the document\n",
    "p = new_doc.add_paragraph()\n",
    "\n",
    "# Add some formatting to the paragraph\n",
    "p.paragraph_format.line_spacing = 1.5\n",
    "p.paragraph_format.space_after = 1\n",
    "\n",
    "#Function to add text to the document\n",
    "def add_text(text):\n",
    "    run = p.add_run(text)\n",
    "    run.add_break()"
   ]
  },
  {
   "cell_type": "code",
   "execution_count": 33,
   "id": "048ad460",
   "metadata": {},
   "outputs": [
    {
     "name": "stdout",
     "output_type": "stream",
     "text": [
      "{'translations': [{'text': 'निरन्तर नाफा', 'to': 'ne'}]}\n",
      "{'translations': [{'text': 'अनिवार्य परिसमापन', 'to': 'ne'}]}\n",
      "{'translations': [{'text': 'निरन्तर नोक्सानी', 'to': 'ne'}]}\n",
      "{'translations': [{'text': 'निरन्तर उत्पादन', 'to': 'ne'}]}\n",
      "{'translations': [{'text': 'स्वैच्छिक परिसमापन', 'to': 'ne'}]}\n",
      "{'translations': [{'text': 'प्रविधिको नियमित अद्यावधिक', 'to': 'ne'}]}\n",
      "{'translations': [{'text': '', 'to': 'ne'}]}\n",
      "{'translations': [{'text': '- 6.12 एक कंपनी को घुमाने की प्रक्रियाएं', 'to': 'ne'}]}\n",
      "{'translations': [{'text': '', 'to': 'ne'}]}\n",
      "{'translations': [{'text': '२. यदि कुनै कम्पनी दिवालिया भयो भने त्यो __________ जान्छ ।', 'to': 'ne'}]}\n",
      "{'translations': [{'text': 'निम्न मध्ये कुन अवस्थामा कम्पनीले खारेजीको सामना गर्न सक्छ?', 'to': 'ne'}]}\n",
      "{'translations': [{'text': 'प्राकृतिक परिसमापन', 'to': 'ne'}]}\n",
      "{'translations': [{'text': '', 'to': 'ne'}]}\n",
      "{'translations': [{'text': '', 'to': 'ne'}]}\n",
      "{'translations': [{'text': 'अप्राकृतिक परिसमापन', 'to': 'ne'}]}\n",
      "{'translations': [{'text': 'यस्तो अवस्था जहाँ कम्पनी निरन्तर घाटामा छ', 'to': 'ne'}]}\n",
      "{'translations': [{'text': 'यस्तो अवस्था जहाँ एक कम्पनी निरन्तर नाफामा छ', 'to': 'ne'}]}\n",
      "{'translations': [{'text': 'एक कम्पनी आफ्नो टेक्नोलोजी अद्यावधिक गर्न सक्षम छ जहाँ स्थिति', 'to': 'ne'}]}\n",
      "{'translations': [{'text': 'एक कम्पनी आफ्नो ऋण तिर्न असमर्थ छ जहाँ स्थिति', 'to': 'ne'}]}\n",
      "{'translations': [{'text': \"४. 'अडिटिङ' शब्दको अर्थ के हो?\", 'to': 'ne'}]}\n",
      "{'translations': [{'text': \"३. 'दिवालिया' भन्ने शब्दले केलाई बुझाउँछ?\", 'to': 'ne'}]}\n",
      "{'translations': [{'text': 'कुनै संस्थाको खाता हेरेर उसको वित्तीय कार्यसम्पादन जाँच गर्ने प्रक्रिया', 'to': 'ne'}]}\n",
      "{'translations': [{'text': 'कुनै संस्थाको खाता हेरेर उसको वित्तीय अभिलेख मेटाउने प्रक्रिया', 'to': 'ne'}]}\n",
      "{'translations': [{'text': 'नयाँ कर्मचारी भर्ना गर्ने प्रक्रिया', 'to': 'ne'}]}\n",
      "{'translations': [{'text': '', 'to': 'ne'}]}\n",
      "{'translations': [{'text': 'पुराना कर्मचारीलाई बर्खास्त गर्ने प्रक्रिया', 'to': 'ne'}]}\n",
      "{'translations': [{'text': '60%', 'to': 'ne'}]}\n",
      "{'translations': [{'text': 'कम्पनी रजिष्ट्रारको कार्यालय', 'to': 'ne'}]}\n",
      "{'translations': [{'text': '10%', 'to': 'ne'}]}\n",
      "{'translations': [{'text': '50%', 'to': 'ne'}]}\n",
      "{'translations': [{'text': '', 'to': 'ne'}]}\n",
      "{'translations': [{'text': 'नेपाल धितोपत्र बोर्ड', 'to': 'ne'}]}\n",
      "{'translations': [{'text': 'नेपाल राष्ट्र बैंक', 'to': 'ne'}]}\n",
      "{'translations': [{'text': 'नेपाल स्टक एक्सचेन्ज', 'to': 'ne'}]}\n",
      "{'translations': [{'text': '', 'to': 'ne'}]}\n",
      "{'translations': [{'text': '(५) लिक्विडेटरले कम्पनीको सञ्चालक समितिको बैठक बोलाउन र शेयरधनीमध्ये _________ सहमतिमा रहेमा कम्पनीको दायित्व भुक्तान गरी बाँकी रहेको सम्पत्ति वितरण गर्न सक्नेछ ।', 'to': 'ne'}]}\n",
      "{'translations': [{'text': '20%', 'to': 'ne'}]}\n",
      "{'translations': [{'text': '६. प्रवद्र्धकले कम्पनी खोल्न नसकेमा _________ कम्पनी विघटन गर्न सक्नेछ ।', 'to': 'ne'}]}\n",
      "{'translations': [{'text': '', 'to': 'ne'}]}\n",
      "{'translations': [{'text': '७. स्वेच्छिक खारेजीमा जानका लागि सामूहिक सम्झौता कसले गर्छ ?', 'to': 'ne'}]}\n",
      "{'translations': [{'text': 'शेयरधनीहरू', 'to': 'ne'}]}\n",
      "{'translations': [{'text': 'आपूर्तिकर्ता', 'to': 'ne'}]}\n",
      "{'translations': [{'text': 'सरकार', 'to': 'ne'}]}\n",
      "{'translations': [{'text': 'ग्राहकहरु', 'to': 'ne'}]}\n",
      "{'translations': [{'text': 'ग्राहकहरु', 'to': 'ne'}]}\n",
      "{'translations': [{'text': 'आपूर्तिकर्ता', 'to': 'ne'}]}\n",
      "{'translations': [{'text': 'अदालत', 'to': 'ne'}]}\n",
      "{'translations': [{'text': '८. कम्पनीको अनिवार्य खारेजीको अन्तिम निर्णय निम्नमध्ये कसले लिन्छ?', 'to': 'ne'}]}\n",
      "{'translations': [{'text': 'कम्पनी रजिष्ट्रारको कार्यालय', 'to': 'ne'}]}\n",
      "{'translations': [{'text': '', 'to': 'ne'}]}\n",
      "{'translations': [{'text': 'खारेजी ऐन, २०६६', 'to': 'ne'}]}\n",
      "{'translations': [{'text': 'कम्पनी ऐन, २०६०', 'to': 'ne'}]}\n",
      "{'translations': [{'text': 'कम्पनी ऐन, २०६३', 'to': 'ne'}]}\n",
      "{'translations': [{'text': 'दिवाला ऐन, २०६६', 'to': 'ne'}]}\n",
      "{'translations': [{'text': '', 'to': 'ne'}]}\n",
      "{'translations': [{'text': '१०) कुन ऐन अनुसार अनिवार्य खारेजी गरिन्छ ?', 'to': 'ne'}]}\n",
      "{'translations': [{'text': 'कम्पनी ऐन, २०६२', 'to': 'ne'}]}\n",
      "{'translations': [{'text': 'दिवालिया ऐन, २०६०', 'to': 'ne'}]}\n",
      "{'translations': [{'text': '९. स्वैच्छिक खारेजी कुन ऐन बमोजिम गरिन्छ ?', 'to': 'ne'}]}\n",
      "{'translations': [{'text': 'दिवालिया ऐन, २०६३', 'to': 'ne'}]}\n",
      "{'translations': [{'text': 'दिवालिया ऐन, २०६२', 'to': 'ne'}]}\n",
      "{'translations': [{'text': 'अनिवार्य परिसमापन', 'to': 'ne'}]}\n",
      "{'translations': [{'text': '११) निरन्तर आर्थिक नोक्सानी बेहोर्दै आएको नेपालस्थित पब्लिक ट्रेडेड कम्पनी इनोभेट लिमिटेडले मेमोरेन्डम अफ एशोसिएशन (एमओए) मा उल्लिखित पारस्परिक सम्झौतामार्फत विघटन गर्ने निर्णय गरेको छ । यसपछि, कम्पनी रजिष्ट्रारको कार्यालय (ओसीआर) मा लिक्विडेसन आवेदन दायर गरिएको थियो, जसले इनोभेटिभको खारेजीको लागि स्वीकृति प्रदान गरेको थियो। इनोभेट लिमिटेड ___________ मार्फत भंग गरिएको छ।', 'to': 'ne'}]}\n",
      "{'translations': [{'text': 'अस्थायी परिसमापन', 'to': 'ne'}]}\n",
      "{'translations': [{'text': 'आपूर्तिकर्ता', 'to': 'ne'}]}\n",
      "{'translations': [{'text': 'कम्पनीको स्वेच्छिक खारेजीको अन्तिम निर्णय निम्नमध्ये कसले लिन्छ?', 'to': 'ne'}]}\n",
      "{'translations': [{'text': '', 'to': 'ne'}]}\n",
      "{'translations': [{'text': 'ग्राहकहरु', 'to': 'ne'}]}\n",
      "{'translations': [{'text': 'अदालत', 'to': 'ne'}]}\n",
      "{'translations': [{'text': 'स्वैच्छिक परिसमापन', 'to': 'ne'}]}\n",
      "{'translations': [{'text': 'कम्पनी रजिष्ट्रारको कार्यालय', 'to': 'ne'}]}\n",
      "{'translations': [{'text': 'स्थायी खारेजी', 'to': 'ne'}]}\n"
     ]
    }
   ],
   "source": [
    "# sending each sentence for translation and adding it to the new document\n",
    "i = 0\n",
    "with concurrent.futures.ThreadPoolExecutor() as executor: \n",
    "    for result in executor.map(translated_extraction, lis):\n",
    "        if not lis[i] or re.search(\"^\\s*$\", lis[i]):\n",
    "            text = lis[i]\n",
    "            new_doc.add_paragraph()\n",
    "            \n",
    "        else: \n",
    "            text = lis[i], f\"({result})\"\n",
    "            #print(lis[i], f\"({result})\")\n",
    "\n",
    "        #Inserting the translated text in new doc    \n",
    "        add_text(text)\n",
    "        i = i + 1"
   ]
  },
  {
   "cell_type": "code",
   "execution_count": 34,
   "id": "624bc0e7",
   "metadata": {},
   "outputs": [],
   "source": [
    "#styling the new doc\n",
    "from docx.shared import Pt\n",
    "\n",
    "style = new_doc.styles['Normal']\n",
    "font = style.font\n",
    "font.name = 'Proxima Nova'\n",
    "font.size = Pt(10)\n",
    "\n",
    "#Save the new doc\n",
    "new_doc.save(name + '_translated.docx')"
   ]
  },
  {
   "cell_type": "code",
   "execution_count": 35,
   "id": "77f635eb",
   "metadata": {},
   "outputs": [
    {
     "name": "stdout",
     "output_type": "stream",
     "text": [
      "total_time: 157.31264519994147\n"
     ]
    }
   ],
   "source": [
    "stop = timeit.default_timer()\n",
    "print('total_time:', stop - start)"
   ]
  }
 ],
 "metadata": {
  "kernelspec": {
   "display_name": "Python 3 (ipykernel)",
   "language": "python",
   "name": "python3"
  },
  "language_info": {
   "codemirror_mode": {
    "name": "ipython",
    "version": 3
   },
   "file_extension": ".py",
   "mimetype": "text/x-python",
   "name": "python",
   "nbconvert_exporter": "python",
   "pygments_lexer": "ipython3",
   "version": "3.11.3"
  }
 },
 "nbformat": 4,
 "nbformat_minor": 5
}
